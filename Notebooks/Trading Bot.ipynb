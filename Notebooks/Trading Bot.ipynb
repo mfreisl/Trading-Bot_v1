{
 "cells": [
  {
   "cell_type": "code",
   "execution_count": 38,
   "id": "baeb3caf",
   "metadata": {},
   "outputs": [],
   "source": [
    "%load_ext autoreload\n",
    "%autoreload 2"
   ]
  },
  {
   "cell_type": "markdown",
   "id": "208b99a2",
   "metadata": {},
   "source": [
    "## Getting Market Data"
   ]
  },
  {
   "cell_type": "markdown",
   "id": "94642f08",
   "metadata": {},
   "source": [
    "### Trading View"
   ]
  },
  {
   "cell_type": "code",
   "execution_count": 7,
   "id": "309244be",
   "metadata": {},
   "outputs": [],
   "source": [
    "from tradingview_ta import TA_Handler, Interval, Exchange\n",
    "tesla = TA_Handler(\n",
    "    symbol=\"BTCUSDT\",\n",
    "    screener=\"CRYPTO\",\n",
    "    exchange=\"Binance\",\n",
    "    interval=Interval.INTERVAL_1_WEEK,\n",
    ")\n"
   ]
  },
  {
   "cell_type": "code",
   "execution_count": 20,
   "id": "d24de45d",
   "metadata": {},
   "outputs": [],
   "source": [
    "#tesla"
   ]
  },
  {
   "cell_type": "markdown",
   "id": "871cff89",
   "metadata": {},
   "source": [
    "## Trading Bot\n",
    "\n",
    "Documentation: https://python-binance.readthedocs.io/en/latest/margin.html\n",
    "\n",
    "Steps:\n",
    "1. Binance API (created to my private Account)\n",
    "    API Key: \n",
    "    Secret Key: \n",
    "2."
   ]
  },
  {
   "cell_type": "code",
   "execution_count": 8,
   "id": "ed0ad3bc",
   "metadata": {},
   "outputs": [],
   "source": [
    "# General packages to import\n",
    "import pandas as pd"
   ]
  },
  {
   "cell_type": "code",
   "execution_count": 21,
   "id": "0f297453",
   "metadata": {},
   "outputs": [],
   "source": [
    "# CONNECT API\n",
    "\n",
    "from binance.client import Client\n",
    "\n",
    "# Replace YOUR_API_KEY and YOUR_SECRET_KEY with your actual API key and secret key\n",
    "api_key = 'MnP5Zcd8uuhFeuLA1v46o7GlsiMwMshYU9izfxIz0rLxRi6zXP2Yu4FTrJaPEgji'\n",
    "api_secret = 'huTq837xZ0qGu30a9QOPi3tWyKOXxuxVm4qKMKAIC4pecm6wLLaGKV0YpMhiBwqf'\n",
    "\n",
    "# Create a new client object\n",
    "client = Client(api_key, api_secret, testnet=True)"
   ]
  },
  {
   "cell_type": "code",
   "execution_count": null,
   "id": "467726b0",
   "metadata": {},
   "outputs": [],
   "source": [
    "#start_balance = info"
   ]
  },
  {
   "cell_type": "code",
   "execution_count": 28,
   "id": "b47550d5",
   "metadata": {},
   "outputs": [
    {
     "data": {
      "text/plain": [
       "{'makerCommission': 0,\n",
       " 'takerCommission': 0,\n",
       " 'buyerCommission': 0,\n",
       " 'sellerCommission': 0,\n",
       " 'commissionRates': {'maker': '0.00000000',\n",
       "  'taker': '0.00000000',\n",
       "  'buyer': '0.00000000',\n",
       "  'seller': '0.00000000'},\n",
       " 'canTrade': True,\n",
       " 'canWithdraw': False,\n",
       " 'canDeposit': False,\n",
       " 'brokered': False,\n",
       " 'requireSelfTradePrevention': False,\n",
       " 'updateTime': 1674991447913,\n",
       " 'accountType': 'SPOT',\n",
       " 'balances': [{'asset': 'BNB',\n",
       "   'free': '1000.00000000',\n",
       "   'locked': '0.00000000'},\n",
       "  {'asset': 'BTC', 'free': '1.00000000', 'locked': '0.00000000'},\n",
       "  {'asset': 'BUSD', 'free': '10000.00000000', 'locked': '0.00000000'},\n",
       "  {'asset': 'ETH', 'free': '100.00000000', 'locked': '0.00000000'},\n",
       "  {'asset': 'LTC', 'free': '500.00000000', 'locked': '0.00000000'},\n",
       "  {'asset': 'TRX', 'free': '500000.00000000', 'locked': '0.00000000'},\n",
       "  {'asset': 'USDT', 'free': '10000.00000000', 'locked': '0.00000000'},\n",
       "  {'asset': 'XRP', 'free': '50000.00000000', 'locked': '0.00000000'}],\n",
       " 'permissions': ['SPOT']}"
      ]
     },
     "execution_count": 28,
     "metadata": {},
     "output_type": "execute_result"
    }
   ],
   "source": [
    "start_balance"
   ]
  },
  {
   "cell_type": "code",
   "execution_count": 29,
   "id": "8f4fc818",
   "metadata": {},
   "outputs": [],
   "source": [
    "# Get Account Infos\n",
    "info = client.get_account()\n",
    "# Get Account Balance Infos\n",
    "#balance = client.get_asset_balance(asset=\"?\")\n",
    "balance_btc = client.get_asset_balance(asset='BTC')\n",
    "\n",
    "# Get Account Status Infos\n",
    "#status = client.get_account_status()\n",
    "#status = client.get_account_api_trading_status()"
   ]
  },
  {
   "cell_type": "code",
   "execution_count": 32,
   "id": "d9a40628",
   "metadata": {},
   "outputs": [],
   "source": [
    "# GET MARKET INFOS\n",
    "\n",
    "# Trades\n",
    "trades = client.get_recent_trades(symbol='BNBBTC', limit=10)"
   ]
  },
  {
   "cell_type": "markdown",
   "id": "1e4af62a",
   "metadata": {},
   "source": [
    "#Example of Place a Margin order\n",
    "\n",
    "from binance.enums import *\n",
    "\n",
    "order = client.create_margin_order(\n",
    "    symbol='BNBBTC',\n",
    "    side=SIDE_BUY,\n",
    "    type=ORDER_TYPE_LIMIT,\n",
    "    timeInForce=TIME_IN_FORCE_GTC,\n",
    "    quantity=1,\n",
    "    price='0.00001')\n",
    "\n",
    "#code"
   ]
  },
  {
   "cell_type": "markdown",
   "id": "9e48b9a9",
   "metadata": {},
   "source": [
    "For VS Code:\n",
    "\n",
    "from binance import Client\n",
    "\n",
    "api_key = '<api_key>'\n",
    "api_secret = '<api_secret>'\n",
    "\n",
    "def main():\n",
    "    client = Client(api_key, api_secret)\n",
    "\n",
    "    res = client.get_exchange_info()\n",
    "    print(client.response.headers)\n",
    "\n",
    "if __name__ == \"__main__\":\n",
    "    main()"
   ]
  },
  {
   "cell_type": "markdown",
   "id": "03e5a731",
   "metadata": {},
   "source": [
    "## Rest API\n"
   ]
  },
  {
   "cell_type": "code",
   "execution_count": 10,
   "id": "c4cecef2",
   "metadata": {},
   "outputs": [],
   "source": [
    "#/api/v3/ping\n",
    "import requests\n",
    "\n",
    "url = 'https://testnet.binance.vision/api/v3/time'\n",
    "response = requests.get(url)"
   ]
  },
  {
   "cell_type": "code",
   "execution_count": 12,
   "id": "64fff411",
   "metadata": {},
   "outputs": [],
   "source": [
    "import requests\n",
    "import json\n",
    "\n",
    "# API keys\n",
    "api_key = \"MnP5Zcd8uuhFeuLA1v46o7GlsiMwMshYU9izfxIz0rLxRi6zXP2Yu4FTrJaPEgji\"\n",
    "secret_key = \"huTq837xZ0qGu30a9QOPi3tWyKOXxuxVm4qKMKAIC4pecm6wLLaGKV0YpMhiBwqf\"\n",
    "\n",
    "# API endpoint for making a trade\n",
    "trade_url = \"https://testnet.binance.vision/api/v3/order\"\n",
    "\n",
    "# API endpoint for getting account information\n",
    "account_url = \"https://testnet.binance.vision/api/v3/account\"\n",
    "\n",
    "# API endpoint for getting the price of a symbol\n",
    "price_url = \"https://testnet.binance.vision/api/v3/ticker/price\""
   ]
  },
  {
   "cell_type": "code",
   "execution_count": 17,
   "id": "f7c39122",
   "metadata": {},
   "outputs": [
    {
     "data": {
      "text/plain": [
       "<Response [404]>"
      ]
     },
     "execution_count": 17,
     "metadata": {},
     "output_type": "execute_result"
    }
   ],
   "source": [
    "symbol = \"btcusdt\"\n",
    "response = requests.get(f\"{price_url}/{symbol}\")\n",
    "response"
   ]
  },
  {
   "cell_type": "code",
   "execution_count": 32,
   "id": "32442aae",
   "metadata": {
    "scrolled": true
   },
   "outputs": [],
   "source": [
    "import pandas as pd\n",
    "response = requests.get(\n",
    "    'https://testnet.binance.vision/api/v3/ticker/price'\n",
    ").json()\n",
    "#df_price_overview = pd.DataFrame(response)"
   ]
  },
  {
   "cell_type": "code",
   "execution_count": 40,
   "id": "a579b545",
   "metadata": {},
   "outputs": [],
   "source": [
    "#df_price_overview"
   ]
  },
  {
   "cell_type": "code",
   "execution_count": 28,
   "id": "69caa0b4",
   "metadata": {},
   "outputs": [
    {
     "name": "stdout",
     "output_type": "stream",
     "text": [
      "The current price of BNBBUSD is 329.70000000\n"
     ]
    }
   ],
   "source": [
    "symbol = response[0]['symbol']\n",
    "price_btc = response[0]['price']\n",
    "print(f\"The current price of {symbol} is {price}\")\n"
   ]
  },
  {
   "cell_type": "code",
   "execution_count": null,
   "id": "d8a03a3a",
   "metadata": {},
   "outputs": [],
   "source": [
    "price_url = \"https://api.binance.com/api/v3/ticker/price\"\n"
   ]
  },
  {
   "cell_type": "code",
   "execution_count": null,
   "id": "b6c6a9ee",
   "metadata": {},
   "outputs": [],
   "source": [
    "#Function for making a trade\n",
    "#def trade(symbol, side, quantity, price):\n",
    "#    headers = {\n",
    "#        \"X-MBX-APIKEY\": api_key\n",
    "#    }\n",
    "#    data = {\n",
    "#        \"symbol\": symbol,\n",
    "#        \"side\": side,\n",
    "#        \"type\": \"LIMIT\",\n",
    "#        \"timeInForce\": \"GTC\",\n",
    "#        \"quantity\": quantity,\n",
    "#        \"price\": price,\n",
    "#        \"recvWindow\": 5000,\n",
    "#        \"timestamp\": int(round(time.time() * 1000))\n",
    "#    }\n",
    "#    # Sign the request\n",
    "#    query_string = \"&\".join([\"{}={}\".format(k, v) for k, v in data.items()])\n",
    "#    query_string += f\"&signature={get_signature(query_string)}\"\n",
    "#    response = requests.post(\n",
    "#        f\"{trade_url}?{query_string}\",\n",
    "#        headers=headers\n",
    "#    )\n",
    "#    return response.json()"
   ]
  },
  {
   "cell_type": "code",
   "execution_count": null,
   "id": "d0a8aa1e",
   "metadata": {},
   "outputs": [],
   "source": []
  },
  {
   "cell_type": "code",
   "execution_count": null,
   "id": "85459b3f",
   "metadata": {},
   "outputs": [],
   "source": [
    "#Function for getting account information\n",
    "#def get_account_info():\n",
    "#    headers = {\n",
    "#        \"X-MBX-APIKEY\": api_key\n",
    "#    }\n",
    "#    params = {\n",
    "#        \"timestamp\": int(round(time.time() * 1000))\n",
    "#    }\n",
    "#    # Sign the request\n",
    "#    query_string = \"&\".join([\"{}={}\".format(k, v) for k, v in params.items()])\n",
    "#    query_string += f\"&signature={get_signature(query_string)}\"\n",
    "#    response = requests.get(\n",
    "#        f\"{account_url}?{query_string}\",\n",
    "#        headers=headers\n",
    "#    )\n",
    "#    return response.json()"
   ]
  },
  {
   "cell_type": "code",
   "execution_count": null,
   "id": "6f4e5575",
   "metadata": {},
   "outputs": [],
   "source": []
  },
  {
   "cell_type": "code",
   "execution_count": 37,
   "id": "b7f64b37",
   "metadata": {},
   "outputs": [],
   "source": [
    "#import requests\n",
    "#\n",
    "#def fetch_lyrics(artists, title):\n",
    "#    \"\"\"\n",
    "#    Get lyrics from Seeds Lyrics API. Returns empty string if song not found\n",
    "#    \"\"\"\n",
    "#    url = f'https://lyrics.lewagon.ai/search?artist={artists}&title={title}'\n",
    "#    try:\n",
    "#        response = requests.get(url)\n",
    "#        return response.json().get('lyrics', None)\n",
    "#    except:\n",
    "#        return ''"
   ]
  }
 ],
 "metadata": {
  "kernelspec": {
   "display_name": "Python 3",
   "language": "python",
   "name": "python3"
  },
  "language_info": {
   "codemirror_mode": {
    "name": "ipython",
    "version": 3
   },
   "file_extension": ".py",
   "mimetype": "text/x-python",
   "name": "python",
   "nbconvert_exporter": "python",
   "pygments_lexer": "ipython3",
   "version": "3.10.6"
  },
  "toc": {
   "base_numbering": 1,
   "nav_menu": {},
   "number_sections": true,
   "sideBar": true,
   "skip_h1_title": false,
   "title_cell": "Table of Contents",
   "title_sidebar": "Contents",
   "toc_cell": false,
   "toc_position": {},
   "toc_section_display": true,
   "toc_window_display": false
  },
  "vscode": {
   "interpreter": {
    "hash": "750fd645768cab9a56bd8e9a81b58637521b73c72edcf41f01b7dfcbdf9de633"
   }
  }
 },
 "nbformat": 4,
 "nbformat_minor": 5
}
