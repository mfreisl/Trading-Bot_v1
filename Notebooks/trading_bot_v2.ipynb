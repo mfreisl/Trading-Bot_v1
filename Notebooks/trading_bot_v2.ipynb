{
 "cells": [
  {
   "cell_type": "markdown",
   "id": "418e3b07",
   "metadata": {},
   "source": [
    "Source: https://medium.com/trading-data-analysis/trading-algorithm-that-doesnt-work-37e747f4c6a6\n",
    "\n",
    "https://alpaca.markets/docs/trading/getting_started/"
   ]
  },
  {
   "cell_type": "code",
   "execution_count": 1,
   "id": "dc77d187",
   "metadata": {},
   "outputs": [],
   "source": [
    "import requests as rq\n",
    "import alpaca_trade_api as tradeapi\n",
    "import yfinance as yf\n",
    "import pandas_ta as ta"
   ]
  },
  {
   "cell_type": "code",
   "execution_count": 2,
   "id": "cf059b79",
   "metadata": {},
   "outputs": [],
   "source": [
    "from alpaca.trading.client import TradingClient\n",
    "from alpaca.trading.requests import MarketOrderRequest\n",
    "from alpaca.trading.enums import OrderSide, TimeInForce"
   ]
  },
  {
   "cell_type": "code",
   "execution_count": 3,
   "id": "9995678d",
   "metadata": {},
   "outputs": [],
   "source": [
    "# SETTINGS\n",
    "TRADER_BOT_NAME = 'Medium trading bot'\n",
    "\n",
    "TRADER_API_KEY = 'PKL8U1B2NM68MWD6TF56'\n",
    "TRADER_API_SECRET = 'qnTt5X9YNYNxcLSKgrUVDNOGqJVxqtPFZwgmfbBQ'\n",
    "TRADER_API_URL = 'https://paper-api.alpaca.markets'\n",
    "\n",
    "TELEGRAM_URL = 'https://api.telegram.org'\n",
    "TELEGRAM_BOT_ID = '6033820870:AAFQeEDNQ7XlmHSD5cFxbLqKCwUti87Xphw'\n",
    "TELEGRAM_CHAT_ID = '-1001564842941'\n",
    "\n",
    "SCREENER_INTERVAL = '5m'\n",
    "SCREENER_PERIOD = '250m'\n",
    "SCREENER_NASDAQ_COUNT = 100\n",
    "\n",
    "TAKE_PROFIT_DELTA = 0.01\n",
    "CASH_LIMIT = 29000"
   ]
  },
  {
   "cell_type": "code",
   "execution_count": null,
   "id": "48b7eca8",
   "metadata": {},
   "outputs": [],
   "source": [
    "def send_message(message):\n",
    "    response = rq.post(f'{TELEGRAM_URL}/{TELEGRAM_BOT_ID}/sendMessage?chat_id={TELEGRAM_CHAT_ID}&parse_mode=Markdown&text={message}')\n",
    "    return response"
   ]
  },
  {
   "cell_type": "code",
   "execution_count": null,
   "id": "acd61e92",
   "metadata": {},
   "outputs": [],
   "source": [
    "trading_client = TradingClient(TRADER_API_KEY, TRADER_API_SECRET, paper=True)"
   ]
  },
  {
   "cell_type": "code",
   "execution_count": 16,
   "id": "2f4431b0",
   "metadata": {},
   "outputs": [
    {
     "data": {
      "text/plain": [
       "[]"
      ]
     },
     "execution_count": 16,
     "metadata": {},
     "output_type": "execute_result"
    }
   ],
   "source": [
    "account = trading_client.get_account()\n",
    "positions = trading_client.get_all_positions()\n",
    "market_order = trading_client.submit_order(market_order_data)\n",
    "positions"
   ]
  },
  {
   "cell_type": "code",
   "execution_count": 6,
   "id": "cde5e415",
   "metadata": {},
   "outputs": [],
   "source": [
    "market_order_data = MarketOrderRequest(\n",
    "                      symbol=\"BTC/USD\",\n",
    "                      qty=1,\n",
    "                      side=OrderSide.BUY,\n",
    "                      time_in_force=TimeInForce.GTC\n",
    "                  )\n",
    "market_order = trading_client.submit_order(market_order_data)"
   ]
  },
  {
   "cell_type": "code",
   "execution_count": null,
   "id": "6159e1db",
   "metadata": {},
   "outputs": [],
   "source": [
    "MarketOrderReqa"
   ]
  },
  {
   "cell_type": "code",
   "execution_count": null,
   "id": "3db66c50",
   "metadata": {},
   "outputs": [],
   "source": [
    "send_message(\"hi\")"
   ]
  },
  {
   "cell_type": "code",
   "execution_count": null,
   "id": "0be687f3",
   "metadata": {},
   "outputs": [],
   "source": []
  },
  {
   "cell_type": "code",
   "execution_count": null,
   "id": "4e459fce",
   "metadata": {},
   "outputs": [],
   "source": [
    "# FIRST: set up CheckStock function which will be used in the next step during the screening process\n",
    "\n",
    "#Let me explain how it works:\n",
    "#We load tickers for first 500 stocks from NASDAQ and \n",
    "#check each of that stock at this particular moment for several conditions.\n",
    "\n",
    "#For the market that is gonna go DOWN (market is overbought):\n",
    "#Current stock price should be above the upper band of BBANDS;\n",
    "#Current RSI value is above 70.\n",
    "\n",
    "#For the market that is gonna go UP (market is oversold):\n",
    "#Current stock price should be below the lower band of BBANDS;\n",
    "#Current RSI value is below 30.\n",
    "\n",
    "def CheckStock(stock):\n",
    "    data = {}\n",
    "    try:\n",
    "        df = yf.download(stock, period = SCREENER_PERIOD, interval = SCREENER_INTERVAL)\n",
    "        if (len(df) > 0):\n",
    "            df['RSI'] = ta.rsi(df['Close'], timeperiod=14)\n",
    "            #In our case, to identify this pattern we use Bollinger Bands with period = 20 and non-standard deviation equals to 2.3. \n",
    "            #This number is important, believe me. I got this setup for BBANDS based on my own experiments. \n",
    "            #They work much better than the standard deviation equaling 2. \n",
    "            #Actually these numbers are so important that most investment firms protect them in their public relations and non-disclosure agreements.\n",
    "            bbands = ta.bbands(df['Close'], length = 20, std=2.3)\n",
    "            df['L'] = bbands['BBL_20_2.3']\n",
    "            df['M'] = bbands['BBM_20_2.3']\n",
    "            df['U'] = bbands['BBU_20_2.3']\n",
    "          \n",
    "            previous2_bar = df[-3:].head(1)\n",
    "            previous_bar = df[-2:].head(1)\n",
    "            current_bar = df[-1:]\n",
    "            \n",
    "            if current_bar['RSI'].values[0] > 70 and \\\n",
    "                current_bar['Close'].values[0] > current_bar['U'].values[0]:\n",
    "                    data = { 'direction': 'DOWN', 'stock' : stock, 'stop_loss': round(max(previous_bar['High'].values[0], previous2_bar['High'].values[0], previous_bar['U'].values[0]), 2), \\\n",
    "                            'take_profit': round(min(previous_bar['Low'].values[0], previous2_bar['Low'].values[0], previous_bar['M'].values[0]), 2) }\n",
    "            elif current_bar['RSI'].values[0] < 30 and \\\n",
    "                current_bar['Close'].values[0] < current_bar['L'].values[0]:\n",
    "                    data = { 'direction': 'UP', 'stock' : stock, 'stop_loss': round(min(previous_bar['Low'].values[0], previous2_bar['Low'].values[0], previous_bar['L'].values[0]), 2), \\\n",
    "                            'take_profit': round(max(previous_bar['High'].values[0], previous2_bar['High'].values[0], previous_bar['M'].values[0]), 2) }\n",
    "    except:\n",
    "        print(\"ERROR\")\n",
    "\n",
    "    return data"
   ]
  },
  {
   "cell_type": "code",
   "execution_count": null,
   "id": "2d97a062",
   "metadata": {
    "scrolled": true
   },
   "outputs": [],
   "source": [
    "#stock = \"TSLA\"\n",
    "#df = yf.download(stock, period = SCREENER_PERIOD, interval = SCREENER_INTERVAL)\n",
    "#df"
   ]
  },
  {
   "cell_type": "code",
   "execution_count": null,
   "id": "ae5f4892",
   "metadata": {},
   "outputs": [],
   "source": [
    "def ScreenStocks(trader_api):\n",
    "    assets = trader_api.list_assets(status='active', asset_class='us_equity')\n",
    "    assets = [x for x in assets if x.shortable == True and x.exchange == 'NASDAQ']\n",
    "    stocks = [x.symbol for x in assets][:SCREENER_NASDAQ_COUNT]\n",
    "\n",
    "    screened = []\n",
    "    for st in stocks:\n",
    "        # Here we are calling the CheckStock function from earlier for all stocks in the list\n",
    "        _stock = CheckStock(st)\n",
    "        if _stock != {}:\n",
    "            screened.append(_stock)\n",
    "    screened = [x for x in screened if abs(x['stop_loss'] - x['take_profit']) > min(x['stop_loss'], x['take_profit']) * TAKE_PROFIT_DELTA]\n",
    "    # returns an already screened list of stocks, according to the set parameters\n",
    "    print(screened)\n",
    "    return screened\n"
   ]
  },
  {
   "cell_type": "code",
   "execution_count": null,
   "id": "62688d7f",
   "metadata": {},
   "outputs": [],
   "source": [
    "def Predict(stock):\n",
    "    predictions = [100.24, 155.33, 140.55]\n",
    "\n",
    "  # Here we have to organize communication between our algorithm and LSTM Model \\\n",
    "  # to get predictions by ticker for the particular stock.\n",
    "  # But this is the question to the infrastructure.\n",
    "  # I am gonna consider it in the next article \"Infrastructure itself\".\n",
    "\n",
    "    return predictions"
   ]
  },
  {
   "cell_type": "code",
   "execution_count": null,
   "id": "5a5c452c",
   "metadata": {},
   "outputs": [],
   "source": [
    "# Trade with STOP_LOSS and TAKE_PROFIT\n",
    "def Trade(api, stock, operation, shares_to_trade, take_profit, stop_loss):\n",
    "    api.submit_order(symbol = stock, qty = shares_to_trade, side = operation, type = 'market',\n",
    "                    order_class = 'bracket', time_in_force = 'day', \n",
    "                    take_profit = {'limit_price': take_profit},\n",
    "                    stop_loss = {'stop_price': stop_loss})\n",
    "    message = f'\\n\\t*{stock}*, qty _{shares_to_trade}_ \\n\\t\\twere {operation}'\n",
    "    send_message(f'{TRADER_BOT_NAME}: we entered the market with:' + message)\n",
    "    return True"
   ]
  },
  {
   "cell_type": "code",
   "execution_count": null,
   "id": "da60abe2",
   "metadata": {
    "scrolled": true
   },
   "outputs": [],
   "source": [
    "#api.submit_order(symbol = stock, qty = shares_to_trade, side = operation, type = 'market',\n",
    "#                    order_class = 'bracket', time_in_force = 'day', \n",
    "#                    take_profit = {'limit_price': take_profit},\n",
    "#                    stop_loss = {'stop_price': stop_loss})"
   ]
  },
  {
   "cell_type": "code",
   "execution_count": null,
   "id": "c1c22100",
   "metadata": {},
   "outputs": [],
   "source": [
    "# MAIN script\n",
    "def medium_trader_go(request):\n",
    "    trader_api = api.REST(TRADER_API_KEY, TRADER_API_SECRET, TRADER_API_URL)\n",
    "    account = trader_api.get_account()\n",
    "    clock = trader_api.get_clock()\n",
    "\n",
    "    if bool(account) == True:\n",
    "        message = f'''{TRADER_BOT_NAME}: for *{account.account_number}*\n",
    "        current capital is _{account.portfolio_value}$_ \n",
    "        and non marginable buying power is _{account.non_marginable_buying_power}$_'''\n",
    "        send_message(message)\n",
    "\n",
    "    if clock.is_open == True:\n",
    "        if float(account.non_marginable_buying_power) < CASH_LIMIT:\n",
    "            message = f\"{TRADER_BOT_NAME}: there is no cash on the account or limit reached!\"\n",
    "            send_message(message)\n",
    "        else:\n",
    "          # Screen stocks\n",
    "          screened = ScreenStocks(trader_api)\n",
    "          # Check limit and trade\n",
    "          if len(screened) > 0:\n",
    "            CASH_FOR_TRADE_PER_SHARE = (float(account.non_marginable_buying_power) - CASH_LIMIT) / len(screened)\n",
    "            for item in screened:\n",
    "                predictions = Predict(item['stock'])\n",
    "                STOCK = item['stock']\n",
    "                OPERATION = 'buy' if item['direction'] == 'UP' else 'sell'\n",
    "                STOP_LOSS = min([item['stop_loss']] + predictions) if item['direction'] == 'UP' else max([item['stop_loss']] + predictions)\n",
    "                TAKE_PROFIT = max([item['take_profit']] + predictions) if item['direction'] == 'UP' else min([item['take_profit']] + predictions)\n",
    "                SHARE_PRICE = round(min(STOP_LOSS, TAKE_PROFIT), 2)\n",
    "                SHARES_TO_TRADE = int(CASH_FOR_TRADE_PER_SHARE / SHARE_PRICE)\n",
    "                try:\n",
    "                    if abs(STOP_LOSS - TAKE_PROFIT) > SHARE_PRICE * TAKE_PROFIT_DELTA and SHARES_TO_TRADE > 0:\n",
    "                        Trade(api, STOCK, OPERATION, SHARES_TO_TRADE, TAKE_PROFIT, STOP_LOSS)\n",
    "                        print(f'\\n{STOCK}: {STOP_LOSS}, {TAKE_PROFIT}, {OPERATION}, {SHARES_TO_TRADE}')\n",
    "                except:\n",
    "                    pass\n",
    "\n",
    "    portfolio = trader_api.list_positions()\n",
    "    if bool(portfolio) == True:\n",
    "        message = f'{TRADER_BOT_NAME}: we have {len(portfolio)} opened positions.'\n",
    "        for i in portfolio:\n",
    "            message = message + f'\\n\\t*{i.symbol}*: qty {i.qty} {i.side} for _{i.market_value}$_ \\n\\t\\t\\tcurrent price _{i.current_price}$_ \\n\\t\\t\\tprofit _{i.unrealized_pl}$_'\n",
    "        send_message(message)\n",
    "  \n",
    "    if clock.is_open == False:\n",
    "        message = f\"{TRADER_BOT_NAME}: the market is *CLOSED*, let's try later on!\"\n",
    "        send_message(message)\n",
    "\n",
    "    return f'{TRADER_BOT_NAME}: DONE!'"
   ]
  },
  {
   "cell_type": "code",
   "execution_count": null,
   "id": "8dda15bf",
   "metadata": {},
   "outputs": [],
   "source": [
    "#trader_api = api.REST(TRADER_API_KEY, TRADER_API_SECRET, TRADER_API_URL)"
   ]
  },
  {
   "cell_type": "code",
   "execution_count": null,
   "id": "17572fb9",
   "metadata": {},
   "outputs": [],
   "source": [
    "#ScreenStocks(trader_api)"
   ]
  },
  {
   "cell_type": "code",
   "execution_count": 7,
   "id": "0ca7aa99",
   "metadata": {},
   "outputs": [
    {
     "ename": "NameError",
     "evalue": "name 'account' is not defined",
     "output_type": "error",
     "traceback": [
      "\u001b[0;31m---------------------------------------------------------------------------\u001b[0m",
      "\u001b[0;31mNameError\u001b[0m                                 Traceback (most recent call last)",
      "Cell \u001b[0;32mIn [7], line 1\u001b[0m\n\u001b[0;32m----> 1\u001b[0m account\n",
      "\u001b[0;31mNameError\u001b[0m: name 'account' is not defined"
     ]
    }
   ],
   "source": [
    "account"
   ]
  },
  {
   "cell_type": "code",
   "execution_count": null,
   "id": "0f364fb4",
   "metadata": {},
   "outputs": [],
   "source": []
  },
  {
   "cell_type": "code",
   "execution_count": null,
   "id": "acb860dd",
   "metadata": {},
   "outputs": [],
   "source": []
  }
 ],
 "metadata": {
  "kernelspec": {
   "display_name": "Python 3 (ipykernel)",
   "language": "python",
   "name": "python3"
  },
  "language_info": {
   "codemirror_mode": {
    "name": "ipython",
    "version": 3
   },
   "file_extension": ".py",
   "mimetype": "text/x-python",
   "name": "python",
   "nbconvert_exporter": "python",
   "pygments_lexer": "ipython3",
   "version": "3.10.6"
  },
  "toc": {
   "base_numbering": 1,
   "nav_menu": {},
   "number_sections": true,
   "sideBar": true,
   "skip_h1_title": false,
   "title_cell": "Table of Contents",
   "title_sidebar": "Contents",
   "toc_cell": false,
   "toc_position": {},
   "toc_section_display": true,
   "toc_window_display": false
  },
  "vscode": {
   "interpreter": {
    "hash": "750fd645768cab9a56bd8e9a81b58637521b73c72edcf41f01b7dfcbdf9de633"
   }
  }
 },
 "nbformat": 4,
 "nbformat_minor": 5
}
